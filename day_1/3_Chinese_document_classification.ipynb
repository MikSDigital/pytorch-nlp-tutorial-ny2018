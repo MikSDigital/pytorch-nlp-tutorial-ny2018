{
 "cells": [
  {
   "cell_type": "markdown",
   "metadata": {},
   "source": [
    "# Chinese document Classification"
   ]
  },
  {
   "cell_type": "code",
   "execution_count": 1,
   "metadata": {},
   "outputs": [],
   "source": [
    "from argparse import Namespace\n",
    "\n",
    "import matplotlib.pyplot as plt\n",
    "import numpy as np\n",
    "import seaborn as sns\n",
    "import pandas as pd\n",
    "from tqdm import tqdm_notebook\n",
    "\n",
    "%matplotlib inline\n",
    "\n",
    "plt.style.use('fivethirtyeight')\n",
    "plt.rcParams['figure.figsize'] = (14, 6)"
   ]
  },
  {
   "cell_type": "markdown",
   "metadata": {},
   "source": [
    "### Args for this task"
   ]
  },
  {
   "cell_type": "code",
   "execution_count": 20,
   "metadata": {},
   "outputs": [
    {
     "name": "stdout",
     "output_type": "stream",
     "text": [
      "CUDA is enabled\n"
     ]
    }
   ],
   "source": [
    "args = Namespace(\n",
    "    zhnews_csv=\"data/zhnews.csv\",\n",
    "    batch_size=32,\n",
    "    num_epochs=100,\n",
    "    cuda=True,\n",
    ")\n",
    "\n",
    "args.cuda = args.cuda and torch.cuda.is_available()\n",
    "\n",
    "if args.cuda:\n",
    "    print(\"CUDA is enabled\")\n",
    "else:\n",
    "    print(\"CUDA is not enabled\")"
   ]
  },
  {
   "cell_type": "markdown",
   "metadata": {},
   "source": [
    "# Overview of Task"
   ]
  },
  {
   "cell_type": "markdown",
   "metadata": {},
   "source": [
    "## 1. Load data"
   ]
  },
  {
   "cell_type": "code",
   "execution_count": 3,
   "metadata": {},
   "outputs": [
    {
     "data": {
      "text/html": [
       "<div>\n",
       "<style scoped>\n",
       "    .dataframe tbody tr th:only-of-type {\n",
       "        vertical-align: middle;\n",
       "    }\n",
       "\n",
       "    .dataframe tbody tr th {\n",
       "        vertical-align: top;\n",
       "    }\n",
       "\n",
       "    .dataframe thead th {\n",
       "        text-align: right;\n",
       "    }\n",
       "</style>\n",
       "<table border=\"1\" class=\"dataframe\">\n",
       "  <thead>\n",
       "    <tr style=\"text-align: right;\">\n",
       "      <th></th>\n",
       "      <th>label</th>\n",
       "      <th>title</th>\n",
       "      <th>content</th>\n",
       "    </tr>\n",
       "  </thead>\n",
       "  <tbody>\n",
       "    <tr>\n",
       "      <th>0</th>\n",
       "      <td>1</td>\n",
       "      <td>ti3 ca1o shi4 jie4 be1i : che2ng fe1i na2 pi2...</td>\n",
       "      <td>su4 du4 : ( shuo1 mi2ng : dia3n ji1 zi4 do4ng ...</td>\n",
       "    </tr>\n",
       "    <tr>\n",
       "      <th>1</th>\n",
       "      <td>4</td>\n",
       "      <td>da3o ha2ng</td>\n",
       "      <td>du2 jia1 ti2 go1ng me3i ri4 ba4o jia4 \\n  re4 ...</td>\n",
       "    </tr>\n",
       "    <tr>\n",
       "      <th>2</th>\n",
       "      <td>1</td>\n",
       "      <td>wa3ng yi4 ti3 yu4</td>\n",
       "      <td>gu3n do4ng tu2 ji2 \\n  be3n tu2 ji2 go4ng 7 zh...</td>\n",
       "    </tr>\n",
       "    <tr>\n",
       "      <th>3</th>\n",
       "      <td>3</td>\n",
       "      <td>zi1 lia4o tu2 pia4n : dia4n shi4 ju4 &lt; fu2 gu...</td>\n",
       "      <td>wa3ng ye4 \\n  bu4 zhi1 chi2 Flash\\n  xi1n la4n...</td>\n",
       "    </tr>\n",
       "    <tr>\n",
       "      <th>4</th>\n",
       "      <td>2</td>\n",
       "      <td>niu3 yua2n dui4 me3i yua2n : ku4 lu2n jia3ng ...</td>\n",
       "      <td>xi1n xi1 la2n ca2i cha2ng ku4 lu2n fa1 bia3o j...</td>\n",
       "    </tr>\n",
       "  </tbody>\n",
       "</table>\n",
       "</div>"
      ],
      "text/plain": [
       "   label                                              title  \\\n",
       "0      1   ti3 ca1o shi4 jie4 be1i : che2ng fe1i na2 pi2...   \n",
       "1      4                                        da3o ha2ng    \n",
       "2      1                                 wa3ng yi4 ti3 yu4    \n",
       "3      3   zi1 lia4o tu2 pia4n : dia4n shi4 ju4 < fu2 gu...   \n",
       "4      2   niu3 yua2n dui4 me3i yua2n : ku4 lu2n jia3ng ...   \n",
       "\n",
       "                                             content  \n",
       "0  su4 du4 : ( shuo1 mi2ng : dia3n ji1 zi4 do4ng ...  \n",
       "1  du2 jia1 ti2 go1ng me3i ri4 ba4o jia4 \\n  re4 ...  \n",
       "2  gu3n do4ng tu2 ji2 \\n  be3n tu2 ji2 go4ng 7 zh...  \n",
       "3  wa3ng ye4 \\n  bu4 zhi1 chi2 Flash\\n  xi1n la4n...  \n",
       "4  xi1n xi1 la2n ca2i cha2ng ku4 lu2n fa1 bia3o j...  "
      ]
     },
     "execution_count": 3,
     "metadata": {},
     "output_type": "execute_result"
    }
   ],
   "source": [
    "data = pd.read_csv(args.zhnews_csv, names=['label', 'title', 'content'])\n",
    "data.head()"
   ]
  },
  {
   "cell_type": "code",
   "execution_count": 4,
   "metadata": {},
   "outputs": [
    {
     "data": {
      "text/plain": [
       "<matplotlib.axes._subplots.AxesSubplot at 0x7fe95e013a58>"
      ]
     },
     "execution_count": 4,
     "metadata": {},
     "output_type": "execute_result"
    },
    {
     "data": {
      "image/png": "[encoded data removed]",
      "text/plain": [
       "<Figure size 432x288 with 1 Axes>"
      ]
     },
     "metadata": {},
     "output_type": "display_data"
    }
   ],
   "source": [
    "sns.countplot(data['label'])"
   ]
  },
  {
   "cell_type": "markdown",
   "metadata": {},
   "source": [
    "## 2. Build vocab"
   ]
  },
  {
   "cell_type": "code",
   "execution_count": 5,
   "metadata": {},
   "outputs": [],
   "source": [
    "chars = 'abcdefghijklmnopqrstuvwxyz-,;!?:\\'\\\\|_@#$%ˆ&*˜‘+-=<>()[]{} '\n",
    "char_to_index = {char:i for i, char in enumerate(chars)}\n",
    "index_to_char = {i: char for i, char in enumerate(chars)}"
   ]
  },
  {
   "cell_type": "markdown",
   "metadata": {},
   "source": [
    "## 3. Find max sequence length"
   ]
  },
  {
   "cell_type": "code",
   "execution_count": 6,
   "metadata": {},
   "outputs": [
    {
     "data": {
      "text/plain": [
       "207"
      ]
     },
     "execution_count": 6,
     "metadata": {},
     "output_type": "execute_result"
    }
   ],
   "source": [
    "maxlen = int(max(data['title'].apply(len)))\n",
    "maxlen"
   ]
  },
  {
   "cell_type": "markdown",
   "metadata": {},
   "source": [
    "## 4. Convert sequences to Tensors"
   ]
  },
  {
   "cell_type": "code",
   "execution_count": 7,
   "metadata": {},
   "outputs": [],
   "source": [
    "def encode_input(title, maxlen=207):\n",
    "    title = title.lower().strip()\n",
    "    encoding = np.zeros((len(chars), maxlen), dtype=np.int64)\n",
    "    for i, char in enumerate(title[:maxlen]):\n",
    "        index = char_to_index.get(char, 'unknown')\n",
    "        if index is not 'unknown':\n",
    "            encoding[index,i] = 1\n",
    "    return encoding"
   ]
  },
  {
   "cell_type": "code",
   "execution_count": 8,
   "metadata": {},
   "outputs": [],
   "source": [
    "import torch\n",
    "import torch.nn as nn\n",
    "from torch.autograd import Variable\n",
    "import torch.nn.functional as F"
   ]
  },
  {
   "cell_type": "code",
   "execution_count": 9,
   "metadata": {},
   "outputs": [
    {
     "data": {
      "text/plain": [
       "array([[0, 0, 0, ..., 0, 0, 0],\n",
       "       [1, 0, 0, ..., 0, 0, 0],\n",
       "       [0, 0, 0, ..., 0, 0, 0],\n",
       "       ...,\n",
       "       [0, 0, 0, ..., 0, 0, 0],\n",
       "       [0, 0, 0, ..., 0, 0, 0],\n",
       "       [0, 0, 0, ..., 0, 0, 0]])"
      ]
     },
     "execution_count": 9,
     "metadata": {},
     "output_type": "execute_result"
    }
   ],
   "source": [
    "encode_input('Brian')"
   ]
  },
  {
   "cell_type": "code",
   "execution_count": 10,
   "metadata": {},
   "outputs": [
    {
     "data": {
      "text/plain": [
       "(57, 207)"
      ]
     },
     "execution_count": 10,
     "metadata": {},
     "output_type": "execute_result"
    }
   ],
   "source": [
    "encode_input('Brian').shape"
   ]
  },
  {
   "cell_type": "markdown",
   "metadata": {},
   "source": [
    "## 5. Build PyTorch Dataset and DataLoader"
   ]
  },
  {
   "cell_type": "code",
   "execution_count": 11,
   "metadata": {},
   "outputs": [],
   "source": [
    "from torch.utils.data import Dataset, DataLoader"
   ]
  },
  {
   "cell_type": "code",
   "execution_count": 12,
   "metadata": {},
   "outputs": [],
   "source": [
    "class SogouNews(Dataset):\n",
    "    \"\"\"Sogou News dataset\"\"\"\n",
    "    \n",
    "    def __init__(self, data_path):\n",
    "        self.data = pd.read_csv(data_path, names=['label', 'title', 'content']).dropna()\n",
    "        del self.data['content']\n",
    "        self.X = self.data['title']\n",
    "        self.y = self.data['label']\n",
    "    \n",
    "    def __len__(self):\n",
    "        return len(self.data)\n",
    "    \n",
    "    def __getitem__(self, index):\n",
    "        content = torch.from_numpy(encode_input(self.data['title'][index])).float()\n",
    "        label = self.data['label'][index] - 1\n",
    "        sample = {'x_content': content, 'y_label': label}\n",
    "        return sample"
   ]
  },
  {
   "cell_type": "code",
   "execution_count": 13,
   "metadata": {},
   "outputs": [],
   "source": [
    "sogou_dataset = SogouNews(args.zhnews_csv)"
   ]
  },
  {
   "cell_type": "code",
   "execution_count": 14,
   "metadata": {},
   "outputs": [],
   "source": [
    "dataloader = DataLoader(sogou_dataset, batch_size=args.batch_size, shuffle=True, num_workers=0)"
   ]
  },
  {
   "cell_type": "code",
   "execution_count": 15,
   "metadata": {},
   "outputs": [
    {
     "data": {
      "text/plain": [
       "\n",
       "    0     1     0  ...      0     0     0\n",
       "    0     0     0  ...      0     0     0\n",
       "    0     0     0  ...      0     0     0\n",
       "       ...          ⋱          ...       \n",
       "    0     0     0  ...      0     0     0\n",
       "    0     0     0  ...      0     0     0\n",
       "    0     0     0  ...      0     0     0\n",
       "[torch.FloatTensor of size 57x207]"
      ]
     },
     "execution_count": 15,
     "metadata": {},
     "output_type": "execute_result"
    }
   ],
   "source": [
    "test_batch = next(iter(dataloader))\n",
    "test_batch['x_content'][0]"
   ]
  },
  {
   "cell_type": "markdown",
   "metadata": {},
   "source": [
    "# Define Model"
   ]
  },
  {
   "cell_type": "code",
   "execution_count": 16,
   "metadata": {},
   "outputs": [],
   "source": [
    "class CharCNN(nn.Module):    \n",
    "    def __init__(self, n_classes, vocab_size, max_seq_length, channel_size=128, pool_size=5):\n",
    "        \n",
    "        super(CharCNN, self).__init__()\n",
    "    \n",
    "        self.conv_stack = nn.ModuleList([nn.Conv1d(vocab_size, channel_size, 7), \n",
    "                                         nn.ReLU(),\n",
    "                                         nn.BatchNorm1d(num_features=channel_size),\n",
    "                                         nn.MaxPool1d(pool_size),\n",
    "                                         nn.Conv1d(channel_size, channel_size, 3, padding=1),\n",
    "                                         nn.ReLU(),\n",
    "                                         nn.BatchNorm1d(num_features=channel_size),\n",
    "                                         nn.MaxPool1d(pool_size)])\n",
    "        self.dropout1 = nn.Dropout(p=0.5)\n",
    "        self.output = nn.Linear(1024, n_classes)\n",
    "        \n",
    "        \n",
    "    def forward(self, x):\n",
    "        for op in self.conv_stack:\n",
    "            x = op(x)\n",
    "        \n",
    "        x = x.view(x.size(0),-1)\n",
    "        x = self.dropout1(x)\n",
    "        x = self.output(x)\n",
    "        return x"
   ]
  },
  {
   "cell_type": "markdown",
   "metadata": {},
   "source": [
    "## Training Routine"
   ]
  },
  {
   "cell_type": "code",
   "execution_count": 17,
   "metadata": {},
   "outputs": [],
   "source": [
    "classifier = CharCNN(n_classes=5, vocab_size=len(chars), max_seq_length=maxlen)"
   ]
  },
  {
   "cell_type": "code",
   "execution_count": 23,
   "metadata": {},
   "outputs": [
    {
     "data": {
      "application/vnd.jupyter.widget-view+json": {
       "model_id": "d1ac40f1e7a5417383b24079959a1b55",
       "version_major": 2,
       "version_minor": 0
      },
      "text/html": [
       "<p>Failed to display Jupyter Widget of type <code>HBox</code>.</p>\n",
       "<p>\n",
       "  If you're reading this message in the Jupyter Notebook or JupyterLab Notebook, it may mean\n",
       "  that the widgets JavaScript is still loading. If this message persists, it\n",
       "  likely means that the widgets JavaScript library is either not installed or\n",
       "  not enabled. See the <a href=\"https://ipywidgets.readthedocs.io/en/stable/user_install.html\">Jupyter\n",
       "  Widgets Documentation</a> for setup instructions.\n",
       "</p>\n",
       "<p>\n",
       "  If you're reading this message in another frontend (for example, a static\n",
       "  rendering on GitHub or <a href=\"https://nbviewer.jupyter.org/\">NBViewer</a>),\n",
       "  it may mean that your frontend doesn't currently support widgets.\n",
       "</p>\n"
      ],
      "text/plain": [
       "HBox(children=(IntProgress(value=1, bar_style='info', description='epochs', max=1), HTML(value='')))"
      ]
     },
     "metadata": {},
     "output_type": "display_data"
    },
    {
     "name": "stdout",
     "output_type": "stream",
     "text": [
      "\n"
     ]
    },
    {
     "data": {
      "application/vnd.jupyter.widget-view+json": {
       "model_id": "ef0542ee283e4d5daa84f14540ac4cfb",
       "version_major": 2,
       "version_minor": 0
      },
      "text/html": [
       "<p>Failed to display Jupyter Widget of type <code>HBox</code>.</p>\n",
       "<p>\n",
       "  If you're reading this message in the Jupyter Notebook or JupyterLab Notebook, it may mean\n",
       "  that the widgets JavaScript is still loading. If this message persists, it\n",
       "  likely means that the widgets JavaScript library is either not installed or\n",
       "  not enabled. See the <a href=\"https://ipywidgets.readthedocs.io/en/stable/user_install.html\">Jupyter\n",
       "  Widgets Documentation</a> for setup instructions.\n",
       "</p>\n",
       "<p>\n",
       "  If you're reading this message in another frontend (for example, a static\n",
       "  rendering on GitHub or <a href=\"https://nbviewer.jupyter.org/\">NBViewer</a>),\n",
       "  it may mean that your frontend doesn't currently support widgets.\n",
       "</p>\n"
      ],
      "text/plain": [
       "HBox(children=(IntProgress(value=0, description='batches', max=1875), HTML(value='')))"
      ]
     },
     "metadata": {},
     "output_type": "display_data"
    },
    {
     "name": "stdout",
     "output_type": "stream",
     "text": [
      "\n"
     ]
    }
   ],
   "source": [
    "if args.cuda:\n",
    "    classifier = classifier.cuda()\n",
    "\n",
    "optimizer = torch.optim.Adam(classifier.parameters())\n",
    "criterion = nn.CrossEntropyLoss()\n",
    "\n",
    "loss_history = []\n",
    "accuracy_history = []\n",
    "\n",
    "epoch_bar = tqdm_notebook(desc='epochs')\n",
    "batch_bar = tqdm_notebook(desc='batches', total=len(data)//args.batch_size)\n",
    "\n",
    "try:\n",
    "\n",
    "    for _ in range(args.num_epochs):\n",
    "        per_epoch_losses = []\n",
    "        per_epoch_accuracy = []\n",
    "        for batch in dataloader:\n",
    "            # Step 1: clear the gradients \n",
    "            optimizer.zero_grad()\n",
    "\n",
    "            # Step 2: apply the model to the data\n",
    "            x_content = Variable(batch['x_content'])\n",
    "            y_label = Variable(batch['y_label'])\n",
    "            if args.cuda:\n",
    "                x_content = x_content.cuda()\n",
    "                y_label = y_label.cuda()\n",
    "\n",
    "            y_prediction = classifier(x_content)\n",
    "\n",
    "            # Step 3: compute the loss and propagate the gradients\n",
    "            loss = criterion(y_prediction, y_label)\n",
    "            loss.backward()\n",
    "\n",
    "            per_epoch_losses.append(loss.data[0])\n",
    "            \n",
    "            accuracy = np.mean(y_prediction.cpu().data.numpy().argmax(axis=-1)==y_label.cpu().data.numpy())\n",
    "            per_epoch_accuracy.append(accuracy)\n",
    "\n",
    "            # Step 4; have optimizer update the model weights\n",
    "            optimizer.step()\n",
    "            \n",
    "            batch_bar.update()\n",
    "\n",
    "        loss_history.append(np.mean(per_epoch_losses))\n",
    "        accuracy_history.append(np.mean(per_epoch_accuracy))\n",
    "        epoch_bar.set_postfix(loss=loss_history[-1], accuracy=accuracy_history[-1])\n",
    "        epoch_bar.update()\n",
    "        batch_bar.n = 0\n",
    "        \n",
    "except KeyboardInterrupt:\n",
    "    pass"
   ]
  },
  {
   "cell_type": "code",
   "execution_count": 24,
   "metadata": {},
   "outputs": [
    {
     "data": {
      "image/png": "[encoded data removed]",
      "text/plain": [
       "<Figure size 432x288 with 1 Axes>"
      ]
     },
     "metadata": {},
     "output_type": "display_data"
    }
   ],
   "source": [
    "plt.plot(loss_history);"
   ]
  }
 ],
 "metadata": {
  "kernelspec": {
   "display_name": "py3torch",
   "language": "python",
   "name": "py3torch"
  },
  "language_info": {
   "codemirror_mode": {
    "name": "ipython",
    "version": 3
   },
   "file_extension": ".py",
   "mimetype": "text/x-python",
   "name": "python",
   "nbconvert_exporter": "python",
   "pygments_lexer": "ipython3",
   "version": "3.6.5"
  }
 },
 "nbformat": 4,
 "nbformat_minor": 2
}
